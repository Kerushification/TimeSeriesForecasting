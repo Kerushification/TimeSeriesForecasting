{
 "cells": [
  {
   "cell_type": "code",
   "execution_count": 2,
   "metadata": {},
   "outputs": [
    {
     "name": "stdout",
     "output_type": "stream",
     "text": [
      "Index(['Store', 'Date', 'Temperature', 'Fuel_Price', 'MarkDown1', 'MarkDown2',\n",
      "       'MarkDown3', 'MarkDown4', 'MarkDown5', 'CPI', 'Unemployment',\n",
      "       'IsHoliday'],\n",
      "      dtype='object')\n",
      "Index(['Store', 'Dept', 'Date', 'Weekly_Sales', 'IsHoliday'], dtype='object')\n"
     ]
    }
   ],
   "source": [
    "import pandas as pd\n",
    "\n",
    "file1 = 'CSV/features.csv'\n",
    "file2 = 'CSV/train.csv'\n",
    "\n",
    "full_table1 = pd.read_csv(file1)\n",
    "full_table2 = pd.read_csv(file2)\n",
    "\n",
    "print(full_table1.columns)\n",
    "print(full_table2.columns)"
   ]
  },
  {
   "cell_type": "code",
   "execution_count": 3,
   "metadata": {},
   "outputs": [
    {
     "name": "stdout",
     "output_type": "stream",
     "text": [
      "   Store        Date  Temperature  Fuel_Price  MarkDown1  MarkDown2   \n",
      "0      1  05/02/2010        42.31       2.572        NaN        NaN  \\\n",
      "1      1  05/02/2010        42.31       2.572        NaN        NaN   \n",
      "2      1  05/02/2010        42.31       2.572        NaN        NaN   \n",
      "3      1  05/02/2010        42.31       2.572        NaN        NaN   \n",
      "4      1  05/02/2010        42.31       2.572        NaN        NaN   \n",
      "\n",
      "   MarkDown3  MarkDown4  MarkDown5         CPI  Unemployment  IsHoliday  Dept   \n",
      "0        NaN        NaN        NaN  211.096358         8.106      False     1  \\\n",
      "1        NaN        NaN        NaN  211.096358         8.106      False     2   \n",
      "2        NaN        NaN        NaN  211.096358         8.106      False     3   \n",
      "3        NaN        NaN        NaN  211.096358         8.106      False     4   \n",
      "4        NaN        NaN        NaN  211.096358         8.106      False     5   \n",
      "\n",
      "   Weekly_Sales  \n",
      "0      24924.50  \n",
      "1      50605.27  \n",
      "2      13740.12  \n",
      "3      39954.04  \n",
      "4      32229.38  \n"
     ]
    }
   ],
   "source": [
    "#Merging tables\n",
    "merged_data = pd.merge(full_table1, full_table2, on=[\"Store\", \"Date\", \"IsHoliday\"])\n",
    "print(merged_data.head())"
   ]
  },
  {
   "cell_type": "code",
   "execution_count": 4,
   "metadata": {},
   "outputs": [
    {
     "name": "stdout",
     "output_type": "stream",
     "text": [
      "         Date  Weekly_Sales  Temperature  Fuel_Price  IsHoliday\n",
      "0  05/02/2010      24924.50        42.31       2.572      False\n",
      "1  05/02/2010      50605.27        42.31       2.572      False\n",
      "2  05/02/2010      13740.12        42.31       2.572      False\n",
      "3  05/02/2010      39954.04        42.31       2.572      False\n",
      "4  05/02/2010      32229.38        42.31       2.572      False\n"
     ]
    }
   ],
   "source": [
    "#Creating a new data frame with only desired variables\n",
    "desired_vars = {\n",
    "    \"Date\":merged_data['Date'],\n",
    "    \"Weekly_Sales\": merged_data[\"Weekly_Sales\"],\n",
    "    \"Temperature\": merged_data[\"Temperature\"],\n",
    "    \"Fuel_Price\": merged_data[\"Fuel_Price\"],\n",
    "    \"IsHoliday\": merged_data[\"IsHoliday\"]\n",
    "}\n",
    "\n",
    "data_table = pd.DataFrame(desired_vars)\n",
    "print(data_table.head())"
   ]
  }
 ],
 "metadata": {
  "kernelspec": {
   "display_name": "Python 3",
   "language": "python",
   "name": "python3"
  },
  "language_info": {
   "codemirror_mode": {
    "name": "ipython",
    "version": 3
   },
   "file_extension": ".py",
   "mimetype": "text/x-python",
   "name": "python",
   "nbconvert_exporter": "python",
   "pygments_lexer": "ipython3",
   "version": "3.11.3"
  },
  "orig_nbformat": 4
 },
 "nbformat": 4,
 "nbformat_minor": 2
}
