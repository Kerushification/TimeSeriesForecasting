{
 "cells": [
  {
   "cell_type": "code",
   "execution_count": 15,
   "metadata": {},
   "outputs": [
    {
     "name": "stdout",
     "output_type": "stream",
     "text": [
      "Index(['Store', 'Date', 'Temperature', 'Fuel_Price', 'MarkDown1', 'MarkDown2',\n",
      "       'MarkDown3', 'MarkDown4', 'MarkDown5', 'CPI', 'Unemployment',\n",
      "       'IsHoliday'],\n",
      "      dtype='object')\n",
      "Index(['Store', 'Dept', 'Date', 'Weekly_Sales', 'IsHoliday'], dtype='object')\n"
     ]
    }
   ],
   "source": [
    "#Fetching and reading CSV files\n",
    "import pandas as pd\n",
    "\n",
    "file1 = 'CSV/features.csv'\n",
    "file2 = 'CSV/train.csv'\n",
    "\n",
    "full_table1 = pd.read_csv(file1)\n",
    "full_table2 = pd.read_csv(file2)\n",
    "\n",
    "print(full_table1.columns)\n",
    "print(full_table2.columns)"
   ]
  },
  {
   "cell_type": "code",
   "execution_count": 3,
   "metadata": {},
   "outputs": [
    {
     "name": "stdout",
     "output_type": "stream",
     "text": [
      "   Store        Date  Temperature  Fuel_Price  MarkDown1  MarkDown2   \n",
      "0      1  05/02/2010        42.31       2.572        NaN        NaN  \\\n",
      "1      1  05/02/2010        42.31       2.572        NaN        NaN   \n",
      "2      1  05/02/2010        42.31       2.572        NaN        NaN   \n",
      "3      1  05/02/2010        42.31       2.572        NaN        NaN   \n",
      "4      1  05/02/2010        42.31       2.572        NaN        NaN   \n",
      "\n",
      "   MarkDown3  MarkDown4  MarkDown5         CPI  Unemployment  IsHoliday  Dept   \n",
      "0        NaN        NaN        NaN  211.096358         8.106      False     1  \\\n",
      "1        NaN        NaN        NaN  211.096358         8.106      False     2   \n",
      "2        NaN        NaN        NaN  211.096358         8.106      False     3   \n",
      "3        NaN        NaN        NaN  211.096358         8.106      False     4   \n",
      "4        NaN        NaN        NaN  211.096358         8.106      False     5   \n",
      "\n",
      "   Weekly_Sales  \n",
      "0      24924.50  \n",
      "1      50605.27  \n",
      "2      13740.12  \n",
      "3      39954.04  \n",
      "4      32229.38  \n"
     ]
    }
   ],
   "source": [
    "#Merging tables\n",
    "merged_data = pd.merge(full_table1, full_table2, on=[\"Store\", \"Date\", \"IsHoliday\"])\n",
    "print(merged_data.head())"
   ]
  },
  {
   "cell_type": "code",
   "execution_count": 4,
   "metadata": {},
   "outputs": [
    {
     "name": "stdout",
     "output_type": "stream",
     "text": [
      "         Date  Weekly_Sales  Temperature  Fuel_Price  IsHoliday\n",
      "0  05/02/2010      24924.50        42.31       2.572      False\n",
      "1  05/02/2010      50605.27        42.31       2.572      False\n",
      "2  05/02/2010      13740.12        42.31       2.572      False\n",
      "3  05/02/2010      39954.04        42.31       2.572      False\n",
      "4  05/02/2010      32229.38        42.31       2.572      False\n"
     ]
    }
   ],
   "source": [
    "#Creating a new data frame with only desired variables\n",
    "desired_vars = {\n",
    "    \"Date\":merged_data['Date'],\n",
    "    \"Weekly_Sales\": merged_data[\"Weekly_Sales\"],\n",
    "    \"Temperature\": merged_data[\"Temperature\"],\n",
    "    \"Fuel_Price\": merged_data[\"Fuel_Price\"],\n",
    "    \"IsHoliday\": merged_data[\"IsHoliday\"]\n",
    "}\n",
    "\n",
    "data_table = pd.DataFrame(desired_vars)\n",
    "print(data_table.head())"
   ]
  },
  {
   "cell_type": "code",
   "execution_count": 5,
   "metadata": {},
   "outputs": [],
   "source": [
    "#Splitting data\n",
    "train_data = data_table[data_table[\"Date\"] < \"2012-01-01\"]\n",
    "test_data = data_table[data_table[\"Date\"] >= \"2012-01-01\"]"
   ]
  },
  {
   "cell_type": "code",
   "execution_count": 8,
   "metadata": {},
   "outputs": [
    {
     "name": "stderr",
     "output_type": "stream",
     "text": [
      "C:\\Users\\User\\AppData\\Local\\Temp\\ipykernel_3804\\2772326072.py:4: SettingWithCopyWarning: \n",
      "A value is trying to be set on a copy of a slice from a DataFrame.\n",
      "Try using .loc[row_indexer,col_indexer] = value instead\n",
      "\n",
      "See the caveats in the documentation: https://pandas.pydata.org/pandas-docs/stable/user_guide/indexing.html#returning-a-view-versus-a-copy\n",
      "  train_data[\"IsHoliday\"] = train_data[\"IsHoliday\"].astype(int)\n",
      "c:\\Python311\\Lib\\site-packages\\statsmodels\\tsa\\base\\tsa_model.py:473: ValueWarning: An unsupported index was provided and will be ignored when e.g. forecasting.\n",
      "  self._init_dates(dates, freq)\n",
      "c:\\Python311\\Lib\\site-packages\\statsmodels\\tsa\\base\\tsa_model.py:473: ValueWarning: An unsupported index was provided and will be ignored when e.g. forecasting.\n",
      "  self._init_dates(dates, freq)\n"
     ]
    },
    {
     "name": "stdout",
     "output_type": "stream",
     "text": [
      "                                     SARIMAX Results                                      \n",
      "==========================================================================================\n",
      "Dep. Variable:                       Weekly_Sales   No. Observations:               280198\n",
      "Model:             SARIMAX(1, 1, 1)x(1, 1, 1, 12)   Log Likelihood            -3207921.857\n",
      "Date:                            Tue, 23 May 2023   AIC                        6415859.714\n",
      "Time:                                    00:20:31   BIC                        6415944.059\n",
      "Sample:                                         0   HQIC                       6415884.181\n",
      "                                         - 280198                                         \n",
      "Covariance Type:                              opg                                         \n",
      "===============================================================================\n",
      "                  coef    std err          z      P>|z|      [0.025      0.975]\n",
      "-------------------------------------------------------------------------------\n",
      "Temperature   -57.3380     16.425     -3.491      0.000     -89.531     -25.145\n",
      "Fuel_Price   5690.2425    853.128      6.670      0.000    4018.143    7362.342\n",
      "IsHoliday    -764.4517    594.547     -1.286      0.199   -1929.743     400.839\n",
      "ar.L1           0.3664      0.003    145.324      0.000       0.361       0.371\n",
      "ma.L1          -0.9950      0.000  -2022.445      0.000      -0.996      -0.994\n",
      "ar.S.L12       -0.0155      0.004     -3.888      0.000      -0.023      -0.008\n",
      "ma.S.L12       -0.9993      0.000  -4474.061      0.000      -1.000      -0.999\n",
      "sigma2       9.001e+08      0.016   5.74e+10      0.000       9e+08       9e+08\n",
      "===================================================================================\n",
      "Ljung-Box (L1) (Q):                 741.74   Jarque-Bera (JB):           1237452.01\n",
      "Prob(Q):                              0.00   Prob(JB):                         0.00\n",
      "Heteroskedasticity (H):               0.51   Skew:                             2.37\n",
      "Prob(H) (two-sided):                  0.00   Kurtosis:                        12.14\n",
      "===================================================================================\n",
      "\n",
      "Warnings:\n",
      "[1] Covariance matrix calculated using the outer product of gradients (complex-step).\n",
      "[2] Covariance matrix is singular or near-singular, with condition number 1.65e+25. Standard errors may be unstable.\n"
     ]
    }
   ],
   "source": [
    "#Creation of the SARIMAX model\n",
    "\n",
    "import statsmodels.api as sm\n",
    "\n",
    "#Convert IsHoliday bool type to int\n",
    "train_data[\"IsHoliday\"] = train_data[\"IsHoliday\"].astype(int)\n",
    "\n",
    "#Define exogenous variables\n",
    "exog_vars = [\"Temperature\", \"Fuel_Price\", \"IsHoliday\"]\n",
    "\n",
    "#Create SARIMAX model\n",
    "model = sm.tsa.SARIMAX(train_data[\"Weekly_Sales\"], exog=train_data[exog_vars],\n",
    "                       order=(1, 1, 1), seasonal_order=(1, 1, 1, 12))\n",
    "\n",
    "#Fit the model\n",
    "results = model.fit()\n",
    "\n",
    "#Print the model summary\n",
    "print(results.summary())"
   ]
  },
  {
   "cell_type": "code",
   "execution_count": 19,
   "metadata": {},
   "outputs": [
    {
     "name": "stdout",
     "output_type": "stream",
     "text": [
      "Date            0\n",
      "Weekly_Sales    0\n",
      "Temperature     0\n",
      "Fuel_Price      0\n",
      "IsHoliday       0\n",
      "dtype: int64\n",
      "Date            0\n",
      "Weekly_Sales    0\n",
      "Temperature     0\n",
      "Fuel_Price      0\n",
      "IsHoliday       0\n",
      "dtype: int64\n"
     ]
    }
   ],
   "source": [
    "#Check for missing values in test_data\n",
    "print(test_data.isnull().sum())\n",
    "\n",
    "#Fill missing values with appropriate method\n",
    "test_data_filled = test_data.fillna(method='ffill')  # Forward-fill missing values\n",
    "\n",
    "#Verify if there are still missing values\n",
    "print(test_data_filled.isnull().sum())"
   ]
  },
  {
   "cell_type": "code",
   "execution_count": 26,
   "metadata": {},
   "outputs": [
    {
     "name": "stderr",
     "output_type": "stream",
     "text": [
      "C:\\Users\\User\\AppData\\Local\\Temp\\ipykernel_3804\\2488890960.py:2: SettingWithCopyWarning: \n",
      "A value is trying to be set on a copy of a slice from a DataFrame.\n",
      "Try using .loc[row_indexer,col_indexer] = value instead\n",
      "\n",
      "See the caveats in the documentation: https://pandas.pydata.org/pandas-docs/stable/user_guide/indexing.html#returning-a-view-versus-a-copy\n",
      "  test_data[\"IsHoliday\"] = test_data[\"IsHoliday\"].astype(int)\n",
      "C:\\Users\\User\\AppData\\Local\\Temp\\ipykernel_3804\\2488890960.py:5: SettingWithCopyWarning: \n",
      "A value is trying to be set on a copy of a slice from a DataFrame.\n",
      "Try using .loc[row_indexer,col_indexer] = value instead\n",
      "\n",
      "See the caveats in the documentation: https://pandas.pydata.org/pandas-docs/stable/user_guide/indexing.html#returning-a-view-versus-a-copy\n",
      "  test_data[exog_vars] = test_data[exog_vars].astype(float)\n",
      "c:\\Python311\\Lib\\site-packages\\statsmodels\\tsa\\base\\tsa_model.py:836: ValueWarning: No supported index is available. Prediction results will be given with an integer index beginning at `start`.\n",
      "  return get_prediction_index(\n",
      "c:\\Python311\\Lib\\site-packages\\statsmodels\\tsa\\base\\tsa_model.py:836: FutureWarning: No supported index is available. In the next version, calling this method in a model without a supported index will result in an exception.\n",
      "  return get_prediction_index(\n"
     ]
    }
   ],
   "source": [
    "#Convert IsHoliday bool type to int\n",
    "test_data[\"IsHoliday\"] = test_data[\"IsHoliday\"].astype(int)\n",
    "\n",
    "#Convert exogenous variables to float type\n",
    "test_data[exog_vars] = test_data[exog_vars].astype(float)\n",
    "\n",
    "#Generate forecasts\n",
    "forecast = results.get_forecast(steps=len(test_data), exog=test_data[exog_vars])\n",
    "\n",
    "#Generate predicted mean\n",
    "forecasted_values = forecast.predicted_mean"
   ]
  },
  {
   "cell_type": "code",
   "execution_count": null,
   "metadata": {},
   "outputs": [],
   "source": []
  },
  {
   "cell_type": "code",
   "execution_count": 23,
   "metadata": {},
   "outputs": [
    {
     "name": "stdout",
     "output_type": "stream",
     "text": [
      "RMSE: 34386.11444412614\n"
     ]
    }
   ],
   "source": [
    "#Getting RMSE\n",
    "from sklearn.metrics import mean_squared_error\n",
    "import numpy as np\n",
    "\n",
    "actual_values = test_data[\"Weekly_Sales\"]\n",
    "rmse = np.sqrt(mean_squared_error(actual_values, forecasted_values))\n",
    "print(\"RMSE:\", rmse)"
   ]
  },
  {
   "cell_type": "code",
   "execution_count": 27,
   "metadata": {},
   "outputs": [
    {
     "data": {
      "image/png": "[encoded data removed]",
      "text/plain": [
       "<Figure size 1000x600 with 1 Axes>"
      ]
     },
     "metadata": {},
     "output_type": "display_data"
    }
   ],
   "source": [
    "#Generating plot\n",
    "import matplotlib.pyplot as plt\n",
    "\n",
    "plt.figure(figsize=(10, 6))\n",
    "plt.plot(actual_values, label=\"Actual\")\n",
    "plt.plot(forecasted_values, label=\"Forecast\")\n",
    "plt.legend()\n",
    "plt.xlabel(\"Time\")\n",
    "plt.ylabel(\"Weekly Sales\")\n",
    "plt.title(\"Actual vs Forecasted Weekly Sales\")\n",
    "plt.show()\n"
   ]
  },
  {
   "cell_type": "code",
   "execution_count": null,
   "metadata": {},
   "outputs": [],
   "source": []
  }
 ],
 "metadata": {
  "kernelspec": {
   "display_name": "Python 3",
   "language": "python",
   "name": "python3"
  },
  "language_info": {
   "codemirror_mode": {
    "name": "ipython",
    "version": 3
   },
   "file_extension": ".py",
   "mimetype": "text/x-python",
   "name": "python",
   "nbconvert_exporter": "python",
   "pygments_lexer": "ipython3",
   "version": "3.11.3"
  },
  "orig_nbformat": 4
 },
 "nbformat": 4,
 "nbformat_minor": 2
}
