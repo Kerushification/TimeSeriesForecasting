{
 "cells": [
  {
   "cell_type": "code",
   "execution_count": null,
   "metadata": {},
   "outputs": [],
   "source": [
    "import pandas as pd\n",
    "\n",
    "file1 = 'TimeSeriesForecasting/input/features.csv'\n",
    "file2 = 'TimeSeriesForecasting/input/train.csv'\n",
    "\n",
    "full_table1 = pd.read_csv(file1)\n",
    "full_table2 = pd.read_csv(file2)\n",
    "\n",
    "print(full_table1.columns)\n",
    "print(full_table2.columns)"
   ]
  }
 ],
 "metadata": {
  "language_info": {
   "name": "python"
  },
  "orig_nbformat": 4
 },
 "nbformat": 4,
 "nbformat_minor": 2
}
